{
 "cells": [
  {
   "cell_type": "code",
   "execution_count": 5,
   "metadata": {},
   "outputs": [],
   "source": [
    "import numpy as np\n",
    "from sklearn.model_selection import cross_val_score\n",
    "from sklearn.feature_extraction.text import TfidfVectorizer, CountVectorizer\n",
    "from sklearn.decomposition import TruncatedSVD\n",
    "from sklearn.preprocessing import StandardScaler\n",
    "from sklearn.neural_network import MLPClassifier\n",
    "from scipy.sparse import hstack\n",
    "from sklearn.linear_model import LogisticRegression\n",
    "import pandas as pd\n",
    "from sklearn.model_selection import train_test_split\n",
    "\n",
    "all_data = pd.read_csv('data/train.csv')\n",
    "data = all_data.dropna()\n",
    "\n",
    "x_train, x_test, y_train, y_test = train_test_split(data[['text', 'title']], data['label'], test_size=0.2, random_state=38923)"
   ]
  },
  {
   "cell_type": "code",
   "execution_count": 21,
   "metadata": {},
   "outputs": [],
   "source": [
    "tokenizer = TfidfVectorizer(stop_words='english')\n",
    "\n",
    "\n",
    "vectors = []\n",
    "x = [x_train['text'], x_train['title']]\n",
    "for d in x:\n",
    "    vectorizer = TfidfVectorizer(stop_words='english')\n",
    "    vectors.append(vectorizer.fit_transform(d))\n",
    "vector = hstack(vectors)\n",
    "\n",
    "svd_model = TruncatedSVD(1000)\n",
    "vector = svd_model.fit_transform(vector)\n",
    "\n",
    "scl = StandardScaler()\n",
    "vector = scl.fit_transform(vector)"
   ]
  },
  {
   "cell_type": "code",
   "execution_count": 22,
   "metadata": {},
   "outputs": [
    {
     "data": {
      "text/plain": [
       "0.971903488324541"
      ]
     },
     "execution_count": 22,
     "metadata": {},
     "output_type": "execute_result"
    }
   ],
   "source": [
    "np.mean(cross_val_score(LogisticRegression(penalty='l1', solver='liblinear'), vector, y_train))"
   ]
  },
  {
   "cell_type": "code",
   "execution_count": 25,
   "metadata": {},
   "outputs": [
    {
     "data": {
      "text/plain": [
       "0.9688958526853264"
      ]
     },
     "execution_count": 25,
     "metadata": {},
     "output_type": "execute_result"
    }
   ],
   "source": [
    "np.mean(cross_val_score(LogisticRegression(penalty='l1', solver='liblinear', C=10), vector, y_train))"
   ]
  },
  {
   "cell_type": "code",
   "execution_count": null,
   "metadata": {},
   "outputs": [],
   "source": []
  },
  {
   "cell_type": "code",
   "execution_count": 26,
   "metadata": {},
   "outputs": [
    {
     "data": {
      "text/plain": [
       "0.974364559417191"
      ]
     },
     "execution_count": 26,
     "metadata": {},
     "output_type": "execute_result"
    }
   ],
   "source": [
    "np.mean(cross_val_score(LogisticRegression(penalty='l1', solver='liblinear', C=0.1), vector, y_train))"
   ]
  },
  {
   "cell_type": "code",
   "execution_count": 27,
   "metadata": {},
   "outputs": [
    {
     "data": {
      "text/plain": [
       "0.9477717604033394"
      ]
     },
     "execution_count": 27,
     "metadata": {},
     "output_type": "execute_result"
    }
   ],
   "source": [
    "np.mean(cross_val_score(LogisticRegression(penalty='l1', solver='liblinear', C=0.01), vector, y_train))"
   ]
  },
  {
   "cell_type": "code",
   "execution_count": 28,
   "metadata": {},
   "outputs": [
    {
     "data": {
      "text/plain": [
       "0.97251889630837"
      ]
     },
     "execution_count": 28,
     "metadata": {},
     "output_type": "execute_result"
    }
   ],
   "source": [
    "np.mean(cross_val_score(LogisticRegression(penalty='elasticnet', solver='saga', l1_ratio=0.75, n_jobs=-1), vector, y_train))"
   ]
  },
  {
   "cell_type": "code",
   "execution_count": 29,
   "metadata": {},
   "outputs": [
    {
     "name": "stdout",
     "output_type": "stream",
     "text": [
      "0.971903488324541\n",
      "0.9721769692296007\n",
      "0.9723820039609514\n",
      "0.9723136278925752\n",
      "0.9725870620607463\n",
      "0.9728605897026948\n",
      "0.9734759042127463\n",
      "0.9742963702963703\n",
      "0.974364559417191\n",
      "0.9707411886359255\n",
      "0.9638368648894964\n",
      "0.9479084658032025\n"
     ]
    }
   ],
   "source": [
    "for c in [0.9, 0.8, 0.7, 0.6, 0.5, 0.4, 0.3, 0.2, 0.1, 0.05, 0.025, 0.01]:\n",
    "    print(np.mean(cross_val_score(LogisticRegression(penalty='l1', solver='liblinear', C=c), vector, y_train)))"
   ]
  },
  {
   "cell_type": "code",
   "execution_count": 31,
   "metadata": {},
   "outputs": [
    {
     "name": "stdout",
     "output_type": "stream",
     "text": [
      "c=0.01, l1=0.1, accuracy = \n",
      "0.9751846983425931\n",
      "c=0.01, l1=0.2, accuracy = \n",
      "0.9731339070286438\n",
      "c=0.01, l1=0.3, accuracy = \n",
      "0.9688270559849507\n",
      "c=0.01, l1=0.4, accuracy = \n",
      "0.9665711364658733\n",
      "c=0.01, l1=0.5, accuracy = \n",
      "0.9628796233006758\n",
      "c=0.01, l1=0.6, accuracy = \n",
      "0.9596665556665556\n",
      "c=0.01, l1=0.7, accuracy = \n",
      "0.956863814548025\n",
      "c=0.01, l1=0.8, accuracy = \n",
      "0.9535825577930842\n",
      "c=0.01, l1=0.9, accuracy = \n",
      "0.9511898160319212\n",
      "c=0.05, l1=0.1, accuracy = \n",
      "0.9755950482266271\n",
      "c=0.05, l1=0.2, accuracy = \n",
      "0.9759367182525077\n",
      "c=0.05, l1=0.3, accuracy = \n",
      "0.9758684122894647\n",
      "c=0.05, l1=0.4, accuracy = \n",
      "0.9753215205846786\n",
      "c=0.05, l1=0.5, accuracy = \n",
      "0.9758683889210206\n",
      "c=0.05, l1=0.6, accuracy = \n",
      "0.9746380169538064\n",
      "c=0.05, l1=0.7, accuracy = \n",
      "0.9735442335442336\n",
      "c=0.05, l1=0.8, accuracy = \n",
      "0.9725871087976351\n",
      "c=0.05, l1=0.9, accuracy = \n",
      "0.9719035584298743\n",
      "c=0.1, l1=0.1, accuracy = \n",
      "0.9741595246858404\n",
      "c=0.1, l1=0.2, accuracy = \n",
      "0.9751849787639261\n",
      "c=0.1, l1=0.3, accuracy = \n",
      "0.9749797804534648\n",
      "c=0.1, l1=0.4, accuracy = \n",
      "0.9750481565218407\n",
      "c=0.1, l1=0.5, accuracy = \n",
      "0.9753899667583878\n",
      "c=0.1, l1=0.6, accuracy = \n",
      "0.974979733716576\n",
      "c=0.1, l1=0.7, accuracy = \n",
      "0.9755950715950716\n",
      "c=0.1, l1=0.8, accuracy = \n",
      "0.975184861921704\n",
      "c=0.1, l1=0.9, accuracy = \n",
      "0.9753215673215673\n",
      "c=0.2, l1=0.1, accuracy = \n",
      "0.9729290592448487\n",
      "c=0.2, l1=0.2, accuracy = \n",
      "0.9736809856809858\n",
      "c=0.2, l1=0.3, accuracy = \n",
      "0.9740911953543533\n",
      "c=0.2, l1=0.4, accuracy = \n",
      "0.9747063930221825\n",
      "c=0.2, l1=0.5, accuracy = \n",
      "0.9751849320270372\n",
      "c=0.2, l1=0.6, accuracy = \n",
      "0.9753216374269005\n",
      "c=0.2, l1=0.7, accuracy = \n",
      "0.9751165559586612\n",
      "c=0.2, l1=0.8, accuracy = \n",
      "0.9751849086585928\n",
      "c=0.2, l1=0.9, accuracy = \n",
      "0.9750481565218407\n",
      "c=0.35, l1=0.1, accuracy = \n",
      "0.9724505669768828\n",
      "c=0.35, l1=0.2, accuracy = \n",
      "0.9725872723767461\n",
      "c=0.35, l1=0.3, accuracy = \n",
      "0.9729973885763359\n",
      "c=0.35, l1=0.4, accuracy = \n",
      "0.9735442802811223\n",
      "c=0.35, l1=0.5, accuracy = \n",
      "0.9736126563494985\n",
      "c=0.35, l1=0.6, accuracy = \n",
      "0.9739544198491566\n",
      "c=0.35, l1=0.7, accuracy = \n",
      "0.9741595013173961\n",
      "c=0.35, l1=0.8, accuracy = \n",
      "0.9746380403222508\n",
      "c=0.35, l1=0.9, accuracy = \n",
      "0.9750481331533963\n"
     ]
    }
   ],
   "source": [
    "for c in [0.01, 0.05, 0.1, 0.2, 0.35]:\n",
    "    for l1 in [0.1, 0.2, 0.3, 0.4, 0.5, 0.6, 0.7, 0.8, 0.9]:\n",
    "        print(f'c={c}, l1={l1}, accuracy = ')\n",
    "        print(np.mean(cross_val_score(LogisticRegression(penalty='elasticnet', solver='saga', l1_ratio=l1, C=c, n_jobs=-1), vector, y_train)))"
   ]
  },
  {
   "cell_type": "code",
   "execution_count": null,
   "metadata": {},
   "outputs": [],
   "source": []
  }
 ],
 "metadata": {
  "kernelspec": {
   "display_name": "Python 3",
   "language": "python",
   "name": "python3"
  },
  "language_info": {
   "codemirror_mode": {
    "name": "ipython",
    "version": 3
   },
   "file_extension": ".py",
   "mimetype": "text/x-python",
   "name": "python",
   "nbconvert_exporter": "python",
   "pygments_lexer": "ipython3",
   "version": "3.7.6"
  }
 },
 "nbformat": 4,
 "nbformat_minor": 4
}
