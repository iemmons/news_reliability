{
 "cells": [
  {
   "cell_type": "code",
   "execution_count": 17,
   "metadata": {},
   "outputs": [],
   "source": [
    "import numpy as np\n",
    "from sklearn.feature_extraction.text import TfidfVectorizer\n",
    "from sklearn.decomposition import TruncatedSVD\n",
    "from sklearn.preprocessing import StandardScaler\n",
    "from scipy.sparse import hstack\n",
    "from sklearn.linear_model import LogisticRegression\n",
    "import pandas as pd\n",
    "from sklearn.model_selection import train_test_split\n",
    "from sklearn.metrics import roc_auc_score\n",
    "\n",
    "all_data = pd.read_csv('data/train.csv')\n",
    "data = all_data.dropna()\n",
    "\n",
    "x_train, x_test, y_train, y_test = train_test_split(data[['text', 'title']], data['label'], test_size=0.2, random_state=38923)"
   ]
  },
  {
   "cell_type": "code",
   "execution_count": 7,
   "metadata": {},
   "outputs": [],
   "source": [
    "text_tokenizer = TfidfVectorizer(stop_words='english')\n",
    "title_tokenizer = TfidfVectorizer(stop_words='english')\n",
    "\n",
    "x = [text_tokenizer.fit_transform(x_train['text']), title_tokenizer.fit_transform(x_train['title'])]\n",
    "x = hstack(x)\n",
    "\n",
    "svd_model = TruncatedSVD(1000)\n",
    "x = svd_model.fit_transform(x)\n",
    "\n",
    "scl = StandardScaler()\n",
    "x = scl.fit_transform(x)"
   ]
  },
  {
   "cell_type": "code",
   "execution_count": 18,
   "metadata": {},
   "outputs": [
    {
     "name": "stderr",
     "output_type": "stream",
     "text": [
      "C:\\Users\\ianem\\anaconda3\\lib\\site-packages\\sklearn\\linear_model\\_sag.py:330: ConvergenceWarning: The max_iter was reached which means the coef_ did not converge\n",
      "  \"the coef_ did not converge\", ConvergenceWarning)\n"
     ]
    },
    {
     "data": {
      "text/plain": [
       "LogisticRegression(C=0.05, class_weight=None, dual=False, fit_intercept=True,\n",
       "                   intercept_scaling=1, l1_ratio=0.5, max_iter=100,\n",
       "                   multi_class='auto', n_jobs=-1, penalty='elasticnet',\n",
       "                   random_state=None, solver='saga', tol=0.0001, verbose=0,\n",
       "                   warm_start=False)"
      ]
     },
     "execution_count": 18,
     "metadata": {},
     "output_type": "execute_result"
    }
   ],
   "source": [
    "model = LogisticRegression(penalty='elasticnet', solver='saga', l1_ratio=0.5, C=0.05, n_jobs=-1)\n",
    "model.fit(x, y_train)"
   ]
  },
  {
   "cell_type": "code",
   "execution_count": 19,
   "metadata": {},
   "outputs": [],
   "source": [
    "x_test = [text_tokenizer.transform(x_test['text']), title_tokenizer.transform(x_test['title'])]\n",
    "x_test = hstack(x_test)\n",
    "\n",
    "x_test = svd_model.transform(x_test)\n",
    "\n",
    "x_test = scl.transform(x_test)\n",
    "\n",
    "y_pred = model.predict(x_test)"
   ]
  },
  {
   "cell_type": "code",
   "execution_count": 20,
   "metadata": {},
   "outputs": [
    {
     "name": "stdout",
     "output_type": "stream",
     "text": [
      "0.9773038009297238\n"
     ]
    }
   ],
   "source": [
    "print(np.sum(y_pred == y_test) / y_pred.shape[0])"
   ]
  },
  {
   "cell_type": "code",
   "execution_count": 21,
   "metadata": {},
   "outputs": [
    {
     "data": {
      "text/plain": [
       "0.9773984514186825"
      ]
     },
     "execution_count": 21,
     "metadata": {},
     "output_type": "execute_result"
    }
   ],
   "source": [
    "roc_auc_score(y_test, y_pred)"
   ]
  },
  {
   "cell_type": "code",
   "execution_count": 22,
   "metadata": {},
   "outputs": [
    {
     "name": "stdout",
     "output_type": "stream",
     "text": [
      "661\n"
     ]
    }
   ],
   "source": [
    "print(np.sum(model.coef_ != 0))"
   ]
  },
  {
   "cell_type": "code",
   "execution_count": 23,
   "metadata": {},
   "outputs": [],
   "source": [
    "true = pd.read_csv('data/True.csv')\n",
    "true['label'] = 0\n",
    "false = pd.read_csv('data/Fake.csv')\n",
    "false['label'] = 1\n",
    "data = pd.concat([true, false], axis=0)\n",
    "data['text_length'] = data['text'].str.split().str.len()\n",
    "data = data[data['text_length'] >= 30]\n",
    "data = data.dropna()"
   ]
  },
  {
   "cell_type": "code",
   "execution_count": 24,
   "metadata": {},
   "outputs": [],
   "source": [
    "x_test = [text_tokenizer.transform(data['text']), title_tokenizer.transform(data['title'])]\n",
    "x_test = hstack(x_test)\n",
    "\n",
    "x_test = svd_model.transform(x_test)\n",
    "\n",
    "x_test = scl.transform(x_test)\n",
    "\n",
    "y_pred = model.predict(x_test)\n",
    "\n",
    "y_test = data['label']"
   ]
  },
  {
   "cell_type": "code",
   "execution_count": 25,
   "metadata": {},
   "outputs": [
    {
     "name": "stdout",
     "output_type": "stream",
     "text": [
      "0.700440122589119\n"
     ]
    }
   ],
   "source": [
    "print(np.sum(y_pred == y_test) / y_pred.shape[0])"
   ]
  },
  {
   "cell_type": "code",
   "execution_count": 26,
   "metadata": {},
   "outputs": [
    {
     "data": {
      "text/plain": [
       "0.6986425143993079"
      ]
     },
     "execution_count": 26,
     "metadata": {},
     "output_type": "execute_result"
    }
   ],
   "source": [
    "roc_auc_score(y_test, y_pred)"
   ]
  },
  {
   "cell_type": "code",
   "execution_count": 27,
   "metadata": {},
   "outputs": [],
   "source": [
    "x_train, x_test, y_train, y_test = train_test_split(data[['text', 'title']], data['label'], test_size=0.2, random_state=38923)"
   ]
  },
  {
   "cell_type": "code",
   "execution_count": 28,
   "metadata": {},
   "outputs": [],
   "source": [
    "text_tokenizer = TfidfVectorizer(stop_words='english')\n",
    "title_tokenizer = TfidfVectorizer(stop_words='english')\n",
    "\n",
    "x = [text_tokenizer.fit_transform(x_train['text']), title_tokenizer.fit_transform(x_train['title'])]\n",
    "x = hstack(x)\n",
    "\n",
    "svd_model = TruncatedSVD(1000)\n",
    "x = svd_model.fit_transform(x)\n",
    "\n",
    "scl = StandardScaler()\n",
    "x = scl.fit_transform(x)"
   ]
  },
  {
   "cell_type": "code",
   "execution_count": 29,
   "metadata": {},
   "outputs": [
    {
     "data": {
      "text/plain": [
       "LogisticRegression(C=0.05, class_weight=None, dual=False, fit_intercept=True,\n",
       "                   intercept_scaling=1, l1_ratio=0.5, max_iter=100,\n",
       "                   multi_class='auto', n_jobs=-1, penalty='elasticnet',\n",
       "                   random_state=None, solver='saga', tol=0.0001, verbose=0,\n",
       "                   warm_start=False)"
      ]
     },
     "execution_count": 29,
     "metadata": {},
     "output_type": "execute_result"
    }
   ],
   "source": [
    "model = LogisticRegression(penalty='elasticnet', solver='saga', l1_ratio=0.5, C=0.05, n_jobs=-1)\n",
    "model.fit(x, y_train)"
   ]
  },
  {
   "cell_type": "code",
   "execution_count": 30,
   "metadata": {},
   "outputs": [],
   "source": [
    "x_test = [text_tokenizer.transform(x_test['text']), title_tokenizer.transform(x_test['title'])]\n",
    "x_test = hstack(x_test)\n",
    "\n",
    "x_test = svd_model.transform(x_test)\n",
    "\n",
    "x_test = scl.transform(x_test)\n",
    "\n",
    "y_pred = model.predict(x_test)"
   ]
  },
  {
   "cell_type": "code",
   "execution_count": 31,
   "metadata": {},
   "outputs": [
    {
     "name": "stdout",
     "output_type": "stream",
     "text": [
      "0.9912442396313365\n"
     ]
    }
   ],
   "source": [
    "print(np.sum(y_pred == y_test) / y_pred.shape[0])"
   ]
  },
  {
   "cell_type": "code",
   "execution_count": 32,
   "metadata": {},
   "outputs": [
    {
     "data": {
      "text/plain": [
       "0.9912592028343272"
      ]
     },
     "execution_count": 32,
     "metadata": {},
     "output_type": "execute_result"
    }
   ],
   "source": [
    "roc_auc_score(y_test, y_pred)"
   ]
  },
  {
   "cell_type": "code",
   "execution_count": null,
   "metadata": {},
   "outputs": [],
   "source": []
  }
 ],
 "metadata": {
  "kernelspec": {
   "display_name": "Python 3",
   "language": "python",
   "name": "python3"
  },
  "language_info": {
   "codemirror_mode": {
    "name": "ipython",
    "version": 3
   },
   "file_extension": ".py",
   "mimetype": "text/x-python",
   "name": "python",
   "nbconvert_exporter": "python",
   "pygments_lexer": "ipython3",
   "version": "3.7.6"
  }
 },
 "nbformat": 4,
 "nbformat_minor": 4
}
